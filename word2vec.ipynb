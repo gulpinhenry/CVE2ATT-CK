version https://git-lfs.github.com/spec/v1
oid sha256:9fafd1f8f0c0355f80162560cb26d205532edce5a3a99e05f9ac96c4c1150487
size 6318949
