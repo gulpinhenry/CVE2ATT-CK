version https://git-lfs.github.com/spec/v1
oid sha256:33a55fbb88f5a1806bba087a54cb0943290813f06518bb33c33a1cfa5f3d790b
size 1268382
