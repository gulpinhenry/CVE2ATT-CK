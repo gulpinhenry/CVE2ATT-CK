version https://git-lfs.github.com/spec/v1
oid sha256:ac24c29ffabe9443f92e3fa9f2d39f17828f955a562f7bbf3da7ac0658db4535
size 11314483
