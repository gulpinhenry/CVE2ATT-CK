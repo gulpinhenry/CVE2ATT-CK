version https://git-lfs.github.com/spec/v1
oid sha256:ee1bf4f063f2f45dbd1687df505005a0185fbadca195942d21cad72221d0aed0
size 4059785
