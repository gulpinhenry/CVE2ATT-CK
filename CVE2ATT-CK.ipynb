version https://git-lfs.github.com/spec/v1
oid sha256:78862b5bb35dda4d5f9954b3fe6f2e48e2f56f51310d5d3ad55e3ec5e00de0b2
size 11314484
