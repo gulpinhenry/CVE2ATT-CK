version https://git-lfs.github.com/spec/v1
oid sha256:662edd8bbe236a2f247ddfc1a973029a84e9ac55007aad24dbc17a6749b8e74f
size 11170654
